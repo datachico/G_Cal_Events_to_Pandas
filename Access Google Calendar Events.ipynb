{
 "cells": [
  {
   "cell_type": "code",
   "execution_count": 16,
   "metadata": {},
   "outputs": [],
   "source": [
    "# Load the Pandas libraries with alias 'pd' \n",
    "import pandas as pd \n",
    "import os\n",
    "import numpy as np\n",
    "from IPython.display import display, HTML\n",
    "\n",
    "%matplotlib inline"
   ]
  },
  {
   "cell_type": "code",
   "execution_count": 18,
   "metadata": {},
   "outputs": [
    {
     "name": "stdout",
     "output_type": "stream",
     "text": [
      "Please visit this URL to authorize this application: https://accounts.google.com/o/oauth2/auth?response_type=code&client_id=488185422413-7tpmaorfd7ogrd33991srev9qdpkd1sl.apps.googleusercontent.com&redirect_uri=urn%3Aietf%3Awg%3Aoauth%3A2.0%3Aoob&scope=https%3A%2F%2Fwww.googleapis.com%2Fauth%2Fcalendar&state=igFiBGKS5DOf5g2ZrzvhbxEwR6vFYk&prompt=consent&access_type=offline\n",
      "Enter the authorization code: 4/vQEPz0glBzqVx5pSSFxJB2lafbte76NTXEyRf2ThCJ9JpZqzyXFGv6Q\n"
     ]
    }
   ],
   "source": [
    "#read calendar events from google\n",
    "#requirement: pip install --upgrade google-api-python-client google-auth-httplib2 google-auth-oauthlib\n",
    "\n",
    "from apiclient.discovery import build\n",
    "from google_auth_oauthlib.flow import InstalledAppFlow\n",
    "import pickle\n",
    "\n",
    "scopes = ['https://www.googleapis.com/auth/calendar']\n",
    "flow = InstalledAppFlow.from_client_secrets_file(\"client_secret.json\", scopes=scopes)\n",
    "credentials = flow.run_console()\n",
    "\n",
    "#save credentials\n",
    "pickle.dump(credentials, open(\"token.pkl\", \"wb\")) \n",
    "credentials = pickle.load(open(\"token.pkl\", \"rb\"))\n",
    "\n",
    "service = build('calendar', 'v3', credentials=credentials)\n",
    "result = service.calendarList().list().execute()\n",
    "\n",
    "#specify desired calendar to access\n",
    "your_calendar_id = 'YOUR_CALENDAR_ID'"
   ]
  },
  {
   "cell_type": "code",
   "execution_count": null,
   "metadata": {},
   "outputs": [],
   "source": [
    "# Call the Calendar API\n",
    "from datetime import datetime\n",
    "from datetime import timedelta\n",
    "from dateutil.parser import parse as parse_date\n",
    "import pdb\n",
    "\n",
    "#deal with timezone issue for comparison\n",
    "import pytz\n",
    "utc=pytz.UTC\n",
    "\n",
    "#specify max date of calendar events you would like to access (days in future)\n",
    "days_in_future = 365\n",
    "\n",
    "now = datetime.utcnow()\n",
    "date_final = (datetime.utcnow() +  timedelta(days=days_in_future)).isoformat() + 'Z'\n",
    "\n",
    "#start_date - earliest date of calendar events needed\n",
    "start_date_str = '09/01/19'\n",
    "start_date = datetime.strptime(start_date_str, '%m/%d/%y').isoformat() + 'Z'\n",
    "\n",
    "events_result = service.events().list(calendarId=your_calendar_id, \n",
    "                                    timeMin=start_date, \n",
    "                                    timeMax=date_final,\n",
    "                                    maxResults=1000,\n",
    "                                    singleEvents=True,\n",
    "                                    orderBy='startTime').execute()\n",
    "events = events_result.get('items', [])\n",
    "if not events:\n",
    "    print('no events found!')\n",
    "\n",
    "#make empty list to insert with event dictionaries\n",
    "#calculate duration of event\n",
    "#logic to dictate if event is in past or future (paid or booked)\n",
    "event_list = list()\n",
    "for event in events:\n",
    "    start = parse_date(event['start'].get('dateTime'))\n",
    "    end = parse_date(event['end'].get('dateTime'))\n",
    "    event_duration = end - start\n",
    "    event_duration_minutes = event_duration.seconds // 60\n",
    "    if end < utc.localize(now):\n",
    "        status = 'PAID'\n",
    "    else:\n",
    "        status = 'BOOKED'\n",
    "    cal_entry_dict={'date': start.strftime('%Y-%m-%d'), \n",
    "                    'client': event['summary'], \n",
    "                    'minutes':event_duration_minutes,\n",
    "                   'status' : status}\n",
    "    event_list.append(cal_entry_dict)\n",
    "\n",
    "#Convert to Pandas Dataframe\n",
    "classes_df = pd.DataFrame(event_list) \n",
    "\n"
   ]
  }
 ],
 "metadata": {
  "kernelspec": {
   "display_name": "Python 3",
   "language": "python",
   "name": "python3"
  },
  "language_info": {
   "codemirror_mode": {
    "name": "ipython",
    "version": 3
   },
   "file_extension": ".py",
   "mimetype": "text/x-python",
   "name": "python",
   "nbconvert_exporter": "python",
   "pygments_lexer": "ipython3",
   "version": "3.7.5"
  }
 },
 "nbformat": 4,
 "nbformat_minor": 2
}
